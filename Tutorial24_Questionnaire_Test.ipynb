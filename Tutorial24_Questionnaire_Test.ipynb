{
 "cells": [
  {
   "cell_type": "markdown",
   "id": "3b9715e6",
   "metadata": {},
   "source": [
    "# Introduction"
   ]
  },
  {
   "cell_type": "markdown",
   "id": "7a482ac9",
   "metadata": {},
   "source": [
    "Important Info:\n",
    "\n",
    "Hi and welcome to the Sportlogiq DA Questionnaire! The goal with this questionnaire is to assess your problem solving, hockey knowledge, attention to detail, coding/stats abilities and your (hopeful) fit with some of our day-to-day tasks. If you find yourself stuck or unsure on a question, showing your work and explaining your problem solving/decision making is still highly recommended.\n",
    "\n",
    "Libraries:\n",
    "- You'll want to import libraries such as numpy, pandas, a plotting library like plotly/matplotlib, and a stats library of your choosing (sklearn for example)\n",
    "\n",
    "Data Info:\n",
    "- There are two data files & a rink template for scatter plots. One data file has a condensed event set from a randomly chosen hockey game and the other contains Expected Goals values (xG) to be merged onto shot attempts for this game. **If an xG value does not correspond to a shot event, it should not be counted**\n",
    "\n",
    "- X and Y Coordinates are in feet and are adjusted such that both teams attack from left (dz) to right (oz)\n",
    "    - X values range from -100 (end boards behind the DZ net) to 0 (centre ice) and 100 (end boards behind the OZ net)\n",
    "    - Y values range from -42.5 (west side boards) to 0 (centre ice) and 42.5 (east side boards)\n",
    "    - **When creating scatter plots, please use these coordinates along with the provided rink_template to display the full rink**\n",
    "\n",
    "- Binary columns that have values of 0 or 1 indicate 0=No, 1=Yes\n",
    "\n",
    "- Successfull passes are completed passes, successful shots are shots on net\n",
    "\n",
    "- Compiledgametime is in seconds, periods are 20 minutes long, except for overtime which is 5 minutes or less\n",
    "\n",
    "Please show all work, **keep written answers succinct and to the point** and most of all, thanks for your time and good luck!"
   ]
  },
  {
   "cell_type": "markdown",
   "id": "76a61952",
   "metadata": {},
   "source": [
    "## Q1) \n",
    "### a) Which teamid won the game, what was the score, which period was the winning goal scored in?\n",
    "### b) Limited to the period where the winning goal was scored, create a scatter plot for the winning team's shot attempts in that period and highlight the winning goal in a different colour."
   ]
  },
  {
   "cell_type": "markdown",
   "id": "10b879a4",
   "metadata": {},
   "source": [
    "## A1) \n",
    "### a) 315, 4:3, OT\n",
    "### b) *See Analysis.ipynb under Q1*"
   ]
  },
  {
   "cell_type": "markdown",
   "id": "67f2e9a6",
   "metadata": {},
   "source": [
    "## Q2)\n",
    "\n",
    "### a) Which playerid scored the winning goal? \n",
    "### b) Create a scatter plot for all of this player's powerplay shot attempts for the full game.\n",
    "### c) If we told you these were Alex Ovechkin's powerplay shot attempts, what would you need to do to the Y coordinates for these attempts to appear from \"Ovi's Office\"? Please re-create the scatter plot accordingly."
   ]
  },
  {
   "cell_type": "markdown",
   "id": "e7795115",
   "metadata": {},
   "source": [
    "## A2)\n",
    "### a) <span style=\"color:red\"> 81408 </span>\n",
    "### b) <span style=\"color:red\"> *See Analysis.ipynb under Q2* </span>\n",
    "### c) <span style=\"color:red\"> *See Analysis.ipynb under Q2* </span>"
   ]
  },
  {
   "cell_type": "markdown",
   "id": "3ceee930",
   "metadata": {},
   "source": [
    "## Q3)\n",
    "### a) The Assistant Coach wants to know how each team's even strength pass completion rate breaks down in each zone (please use the zone of pass origin). Build a simple visual to display this information for them in a clear and digestible way. \n",
    "### b) Which zone was more difficult to complete passes in at even strength, why do you think that is? \n",
    "### c) What was each goalie id's slot save percentage? (the slot includes innerSlot, westOuterSlot, & eastOuterSlot)"
   ]
  },
  {
   "cell_type": "markdown",
   "id": "6c191162",
   "metadata": {},
   "source": [
    "## A3) \n",
    "### a)<span style=\"color:red\"> *See Analysis.ipynb under Q3* </span>\n",
    "### b) <span style=\"color:red\">OZ was hardest to complete passes in. Likely because there is the most on puck pressure. Teams will back off in defensive posture allowing for a team in the DZ to more easily complete a pass</span>\n",
    "### c) \n",
    "\n",
    "### <span style=\"color:red\">Goalie ID: 5152\n",
    "Team ID: 315\n",
    "Slot Save Percentage: 96.43%\n",
    "Total Slot Shots: 28\n",
    "Slot Goals: 1 \n",
    "\n",
    "### <span style=\"color:red\"> Goalie ID: 80264\n",
    "Team ID: 311\n",
    "Slot Save Percentage: 92.59%\n",
    "Total Slot Shots: 27\n",
    "Slot Goals: 2 </span>\n",
    "\n"
   ]
  },
  {
   "cell_type": "markdown",
   "id": "bd50c34d",
   "metadata": {},
   "source": [
    "## Q4)\n",
    "### a) Assuming the centre of the net is at X=89 (goal line), Y=0 (centre ice), what was the average shot distance for each team for shots from the outside north west playsection to the centre of the net?\n",
    "### b) What was each goalie's Goals Saved Above Expected from the outside north west playsection? What does this tell us about their performance from this area?"
   ]
  },
  {
   "cell_type": "markdown",
   "id": "20941a95",
   "metadata": {},
   "source": [
    "## A4)\n",
    "### a)\n",
    "Team ID: 311\n",
    "<span style=\"color:red\"> Average Outside North West Shot Distance from Net: </span> 32.74 feet\n",
    "\n",
    "Team ID: 315\n",
    "<span style=\"color:red\"> Average Outside North West Shot Distance from Net: </span> 35.57 feet\n",
    "\n",
    "### b)\n",
    "Goalie ID: 5152\n",
    "Team ID: 315\n",
    "Average xG: 7.78%\n",
    "Actual Save Percentage: 71.43%\n",
    "Total Shots from Outside Northwest: 7\n",
    "Goals Conceded: 2\n",
    "Expected Goals Allowed: 0.54\n",
    "\n",
    "<span style=\"color:red\"> Goals Saved Above Expected (GSAx): -1.46\n",
    "\n",
    "Goalie ID: 80264\n",
    "Team ID: 311\n",
    "Average xG: 4.62%\n",
    "Actual Save Percentage: 87.50%\n",
    "Total Shots from Outside Northwest: 8\n",
    "Goals Conceded: 1\n",
    "Expected Goals Allowed: 0.37\n",
    "\n",
    "<span style=\"color:red\"> Goals Saved Above Expected (GSAx): -0.63\n",
    "\n",
    "*Based on the minimal sample size I wouldn't put much weight into these metrics. It seems these shots are just above the top of the circle, and also likely classified as \"Low danger chances.\" It seems based on this game that both goalies let in some floaters. If the trend for either goalie continued overtime, it'd seem that their overall save % would reflect that. If their save % remained high, but in this area (or any for that matter) remained lower than their overall save %, that would be something to look into as a development coach, and to exploit as an opposing team.*"
   ]
  },
  {
   "cell_type": "markdown",
   "id": "7fd43684",
   "metadata": {},
   "source": [
    "## Q5)\n",
    "### a) If a \"Shot Assist\" is defined as a sequence of events where there is: 1) a successful pass followed by 2) a successful reception by a *teammate* and then without giving up the puck 3) the receiving player has a shot attempt, create a column flagging shots that have a Shot Assist. How many shot attempts did playerid 79380 have that were assisted?\n",
    "### b) For shots that were assisted, if the full xG value from the shot attempt was credited to the passer for their successful pass (shot assist), which passer created the most xG for their teammates?\n",
    "### c) Plot a single diagram of this passer's shot assists (pass to reception) and their corresponding shots (reception to shot). Hint: Don't forget what you learned about plotting Y coordinates."
   ]
  },
  {
   "cell_type": "markdown",
   "id": "c60cf07b",
   "metadata": {},
   "source": [
    "## A5)\n",
    "### a) <span style=\"color:red\"> Number of shot attempts with assists for playerid 79380: </span> 5\n",
    "### b) <span style=\"color:red\"> The passer who created the most xG for their teammates is </span> player ID: 10534 <span style=\"color:red\"> based on the sum of xG his passes resulted in </span>\n",
    "### c) <span style=\"color:red\"> *See Analysis.ipynb under Q5* </span>\n",
    "\n",
    "### It appears that playe 10534 had a single pass that led to an shot with a xG of 0.312032, a very high danger chance. So altough he only had 1 pass, the total xG of that one pass was higher than all other players xG sums per my calculations."
   ]
  },
  {
   "cell_type": "markdown",
   "id": "af244509",
   "metadata": {},
   "source": [
    "## Q6)\n",
    "### a) Which team won the xG battle and how much xG did each teamid have?\n",
    "### b) Given who won the game, what does this tell you about how the game went?"
   ]
  },
  {
   "cell_type": "markdown",
   "id": "5a0127ef",
   "metadata": {},
   "source": [
    "## A6)\n",
    "### a)\n",
    "<span style=\"color:red\">\n",
    "Team ID: 311\n",
    "xG: 3.67\n",
    "Number of Shots: 62\n",
    "\n",
    "Team ID: 315\n",
    "xG: 2.68\n",
    "Number of Shots: 61\n",
    "\n",
    "The team that won the xG battle is Team 311 with an xG of 3.67 </span>\n",
    "\n",
    "### b)\n",
    "At a surface level this implies there were breakdowns by team 311 since they were expected to win. The shots were about equal so one would point to goal tending first, then maybe defensive breakdowns. However, defensive breakdowns would likely increase the xG of team 315 so we could first look to see if the goalie let in goals that should stay out. "
   ]
  },
  {
   "cell_type": "markdown",
   "id": "78a1e7c5",
   "metadata": {},
   "source": [
    "## Q7) \n",
    "### a) With the information provided in the data files and the columns you've been asked to create in the questions above, use a statistical technique of your choice to show the highest predictors of a goal within this dataset (what would use if you were building an xG model).\n",
    "### b) Please explain your reasoning for your choices in answering 7a) and then explain your findings like you were talking to the Assistant Coach.\n",
    "\n",
    "### Hint: look back at the columns you were asked to create, along with the information already provided in the event dataset, what would lead to dangerous shot attempts? Are there other features from a pass-reception-shot sequence (for example) that would be easy to create with the information provided?"
   ]
  },
  {
   "cell_type": "markdown",
   "id": "16fba9ea",
   "metadata": {},
   "source": [
    "## A7)\n",
    "### a) Logistic Regression model. Look for correlation and predicitve ability of these factors ['eventname', 'playsection', 'outcome', 'zone', 'teamid', 'playerid'] in predicting xG\n",
    "### b)\n",
    "Coach, \n",
    "Based on this game, the three most import factors leading to goals were: completed passes to a high danger area (pass to slot), shots from high danger area (centerPoint), when player 79380 or 109964 shot the puck.\n",
    "\n",
    "It's only one game, but if it represents what your stuff also saw, then that gives our data team confidence to use the model we built to provide your guys with information.\n",
    "\n",
    "Based on your post game video analysis, did you and your staff feel that shots from the centerPoint and uncontested passes to dangerzones led to the most dagnerous scoring chances for both teams. Additionally, did you feel players 79380 and 109964 had the most scoring chances?\n",
    "\n",
    "If so, our models align with what your staff saw, and are prediciting goals well. We can build them out and come back with more robust metrics that should predict goals. \n",
    "\n",
    "Since these metrics (where passes come from and go to, where shots come from, and who shoots the puck) are the best predictors of goals. We can provide you with a simple report for your prescout, and a postgame breakdown, with those goal preidcitng metrics, which should help your team in preparing for and breaking down games."
   ]
  },
  {
   "cell_type": "markdown",
   "id": "720c25a5",
   "metadata": {},
   "source": [
    "# Before you submit:"
   ]
  },
  {
   "cell_type": "markdown",
   "id": "5ef70791",
   "metadata": {},
   "source": [
    "Please check that you have answered all questions (and sub-questions) to the best of your ability and that every answer can be clearly traced back to work that is shown. If you were unable to produce an answer, please describe and show the work you tried.\n",
    "\n",
    "Thanks for your time, effort and interest and we hope you enjoyed this exercise!"
   ]
  }
 ],
 "metadata": {
  "kernelspec": {
   "display_name": "Python 3 (ipykernel)",
   "language": "python",
   "name": "python3"
  },
  "language_info": {
   "codemirror_mode": {
    "name": "ipython",
    "version": 3
   },
   "file_extension": ".py",
   "mimetype": "text/x-python",
   "name": "python",
   "nbconvert_exporter": "python",
   "pygments_lexer": "ipython3",
   "version": "3.9.5"
  }
 },
 "nbformat": 4,
 "nbformat_minor": 5
}
